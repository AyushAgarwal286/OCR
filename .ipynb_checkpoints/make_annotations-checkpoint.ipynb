{
 "cells": [
  {
   "cell_type": "code",
   "execution_count": 1,
   "metadata": {},
   "outputs": [
    {
     "name": "stderr",
     "output_type": "stream",
     "text": [
      "/usr/local/lib/python2.7/dist-packages/h5py/__init__.py:36: FutureWarning: Conversion of the second argument of issubdtype from `float` to `np.floating` is deprecated. In future, it will be treated as `np.float64 == np.dtype(float).type`.\n",
      "  from ._conv import register_converters as _register_converters\n"
     ]
    }
   ],
   "source": [
    "# Importing packages\n",
    "import pandas as pd\n",
    "import numpy as np\n",
    "import tensorflow as tf\n",
    "import matplotlib.pyplot as plt\n",
    "%matplotlib inline\n",
    "import os\n",
    "import json\n",
    "import re\n",
    "import cv2\n",
    "import h5py\n",
    "import sys\n",
    "import copy\n",
    "import random\n",
    "from collections import deque\n",
    "\n",
    "## defining different variables\n",
    "data_dir = '../data/NIST19/'\n",
    "img_size = 128\n",
    "flatten_image_size = img_size**2\n",
    "num_channels = 3\n",
    "img_shape = (img_size,img_size,num_channels)\n",
    "num_classes = 62 # 26 lower case alphabets, 26 upper case alphabets, 10 digits\n",
    "\n",
    "# reading the maps\n",
    "label_cls_name_map = {}\n",
    "label_name_cls_map = {}\n",
    "with open('ocr_checkpoints/label_cls_name.json', 'r') as f:\n",
    "    label_cls_name_map = json.loads(f.read())\n",
    "    \n",
    "for k,v in label_cls_name_map.iteritems():\n",
    "    label_name_cls_map[v] = k\n",
    "\n",
    "xmin_range = range(40,46)\n",
    "ymin_range = range(40,46)\n",
    "xmax_range = range(80,86)\n",
    "ymax_range = range(80,86)\n",
    "\n",
    "dirs = os.listdir(data_dir)\n",
    "#print dirs\n",
    "all_annotations = []\n",
    "for dir_ in dirs:\n",
    "    try:\n",
    "        if '.DS_Store' in dir_:\n",
    "             continue\n",
    "        class_name = chr(int(dir_,16))\n",
    "        dir_path = os.path.join(os.path.join(data_dir, dir_), 'train_%s' % dir_)\n",
    "        for file_ in os.listdir(dir_path):\n",
    "            tuple_ = (file_, 128, 128, class_name, random.choice(xmin_range), random.choice(ymin_range),\n",
    "                     random.choice(xmax_range), random.choice(ymax_range))\n",
    "            all_annotations.append(tuple_)\n",
    "    except Exception, err:\n",
    "        print Exception, err\n",
    "\n",
    "np.random.shuffle(all_annotations)\n",
    "annotations_df = pd.DataFrame(all_annotations, columns=['filename', 'width', 'height', 'class', 'xmin', 'ymin',\n",
    "                                                        'xmax', 'ymax'])\n",
    "\n",
    "train_length = int(len(annotations_df)*0.8)\n",
    "train_annotations = annotations_df.iloc[:train_length]\n",
    "train_annotations.to_csv('ocr_train_labels.csv', index=False)\n",
    "test_annotations = annotations_df.iloc[train_length:]\n",
    "test_annotations.to_csv('ocr_test_labels.csv', index=False)\n",
    "\n",
    "annotations_df.to_csv('ocr_labels.csv', index=False)"
   ]
  },
  {
   "cell_type": "markdown",
   "metadata": {},
   "source": [
    "### Experiments"
   ]
  },
  {
   "cell_type": "code",
   "execution_count": 2,
   "metadata": {},
   "outputs": [
    {
     "data": {
      "text/plain": [
       "<matplotlib.image.AxesImage at 0x7fa361f4d450>"
      ]
     },
     "execution_count": 2,
     "metadata": {},
     "output_type": "execute_result"
    },
    {
     "data": {
      "image/png": "[encoded data removed]",
      "text/plain": [
       "<matplotlib.figure.Figure at 0x7fa3b02cd790>"
      ]
     },
     "metadata": {},
     "output_type": "display_data"
    }
   ],
   "source": [
    "img = cv2.imread('../data/NIST19/33/train_33/train_33_00001.png')\n",
    "cv2.rectangle(img,(xmin_range[0],ymin_range[0]),(xmax_range[0],ymax_range[0]),(0,255,0),3)\n",
    "plt.imshow(img)"
   ]
  },
  {
   "cell_type": "code",
   "execution_count": null,
   "metadata": {},
   "outputs": [],
   "source": []
  }
 ],
 "metadata": {
  "kernelspec": {
   "display_name": "Python 2",
   "language": "python",
   "name": "python2"
  },
  "language_info": {
   "codemirror_mode": {
    "name": "ipython",
    "version": 2
   },
   "file_extension": ".py",
   "mimetype": "text/x-python",
   "name": "python",
   "nbconvert_exporter": "python",
   "pygments_lexer": "ipython2",
   "version": "2.7.12"
  }
 },
 "nbformat": 4,
 "nbformat_minor": 2
}
